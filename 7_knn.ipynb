{
  "nbformat": 4,
  "nbformat_minor": 0,
  "metadata": {
    "colab": {
      "name": "이민재_20191638_과제7.ipynb",
      "provenance": [],
      "collapsed_sections": []
    },
    "kernelspec": {
      "name": "python3",
      "display_name": "Python 3"
    },
    "language_info": {
      "name": "python"
    }
  },
  "cells": [
    {
      "cell_type": "code",
      "metadata": {
        "id": "3LRyC8IH_i_m"
      },
      "source": [
        "import matplotlib.pyplot as plt\n",
        "import random\n",
        "from tqdm import tqdm"
      ],
      "execution_count": 1,
      "outputs": []
    },
    {
      "cell_type": "code",
      "metadata": {
        "id": "OZJ--_iYFGPW"
      },
      "source": [
        "data = []\n",
        "for line in open(\"iris.data\",\"r\"):\n",
        "  try:\n",
        "    items = line.strip().split(\",\")\n",
        "    \n",
        "    data.append(([float(i) for i in items[:4]], items[4]))\n",
        "  except:\n",
        "    pass"
      ],
      "execution_count": 8,
      "outputs": []
    },
    {
      "cell_type": "code",
      "metadata": {
        "colab": {
          "base_uri": "https://localhost:8080/",
          "height": 268
        },
        "id": "RmWg7ueDFHCu",
        "outputId": "bc170422-fa95-460c-9b7f-248a5645837b"
      },
      "source": [
        "classes = ['Iris-versicolor', 'Iris-virginica', 'Iris-setosa' ]\n",
        "\n",
        "for c in classes:\n",
        "  X0 = []\n",
        "  X1 = []\n",
        "  for d in data:\n",
        "    if d[1] == c:\n",
        "      X0.append(d[0][0])\n",
        "      X1.append(d[0][1])\n",
        "  plt.scatter(X0, X1, alpha = 0.3)\n",
        "\n",
        "plt.show()"
      ],
      "execution_count": 3,
      "outputs": [
        {
          "output_type": "display_data",
          "data": {
            "image/png": "[encoded data removed]",
            "text/plain": [
              "<Figure size 432x288 with 1 Axes>"
            ]
          },
          "metadata": {
            "needs_background": "light"
          }
        }
      ]
    },
    {
      "cell_type": "code",
      "metadata": {
        "id": "WlSWz3bUFHYP"
      },
      "source": [
        "random.shuffle(data)\n",
        "\n",
        "train = data[:-30]\n",
        "test = data[-30:]"
      ],
      "execution_count": 4,
      "outputs": []
    },
    {
      "cell_type": "code",
      "metadata": {
        "id": "7YwmLA9Bjn1q"
      },
      "source": [
        "def distance(a,b):\n",
        "  return sum((bi-ai)**2 for ai, bi in zip(a,b)) ** 0.5\n"
      ],
      "execution_count": 5,
      "outputs": []
    },
    {
      "cell_type": "code",
      "metadata": {
        "id": "dF2PmLvqjoVa"
      },
      "source": [
        "from collections import Counter\n",
        "\n",
        "def knn(query, k, train):\n",
        "  #train 데이터 중에서 query랑 가장 가까운 k개 찾기\n",
        "  dist_cls = []\n",
        "\n",
        "  for v, c in train:\n",
        "    d = distance(query, v)\n",
        "    dist_cls.append((d,c))\n",
        "\n",
        "  dist_cls.sort()\n",
        "  dist_cls = dist_cls[:k]\n",
        "\n",
        "  #가중치를 준다면?\n",
        "  cls_cnt = {}\n",
        "  for d, c in dist_cls:\n",
        "    if c not in cls_cnt:\n",
        "      cls_cnt[c] = 0\n",
        "    cls_cnt[c] += 1/(1+d)\n",
        "  \n",
        "  return max(cls_cnt.items(), key=lambda cc: cc[1])[0]\n",
        "\n",
        "  #찾은 것 중에서, 가장 많이 나온 class를 선택해서 return 하기\n",
        "  # cls_cnt = Counter([c for d,c in dist_cls])\n",
        "  # return cls_cnt.most_common(1)[0][0]\n"
      ],
      "execution_count": 6,
      "outputs": []
    },
    {
      "cell_type": "code",
      "metadata": {
        "colab": {
          "base_uri": "https://localhost:8080/",
          "height": 282
        },
        "id": "FMr9xsC7py3y",
        "outputId": "e8a6b22e-0f6d-400d-c27d-4f9610f0c235"
      },
      "source": [
        "n_trials = 30\n",
        "\n",
        "acc_avg = [0] * 100\n",
        "\n",
        "for _ in tqdm(range(n_trials)):\n",
        "  \n",
        "  random.shuffle(data)\n",
        "  train = data[:-30]\n",
        "  test = data[-30:]\n",
        "\n",
        "  for k in range(1, 100):\n",
        "    \n",
        "    correct_cnt = 0\n",
        "    for t_vec, t_cls in test:\n",
        "      expected = knn(t_vec, k, train)\n",
        "      if expected == t_cls:\n",
        "        correct_cnt +=1\n",
        "    accuracy = correct_cnt / len(test)\n",
        "    acc_avg[k] += accuracy\n",
        "\n",
        "acc_avg = [a/n_trials for a in acc_avg]\n",
        "acc_avg = acc_avg[1:]\n",
        "X = range(1,100)\n",
        "\n",
        "plt.plot(X,acc_avg)\n",
        "plt.show()"
      ],
      "execution_count": 7,
      "outputs": [
        {
          "output_type": "stream",
          "name": "stderr",
          "text": [
            "100%|██████████| 30/30 [00:24<00:00,  1.23it/s]\n"
          ]
        },
        {
          "output_type": "display_data",
          "data": {
            "image/png": "[encoded data removed]",
            "text/plain": [
              "<Figure size 432x288 with 1 Axes>"
            ]
          },
          "metadata": {
            "needs_background": "light"
          }
        }
      ]
    }
  ]
}