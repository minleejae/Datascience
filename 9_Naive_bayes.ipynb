{
  "nbformat": 4,
  "nbformat_minor": 0,
  "metadata": {
    "colab": {
      "name": "이민재_20191638_과제9.ipynb",
      "provenance": [],
      "collapsed_sections": [],
      "toc_visible": true
    },
    "kernelspec": {
      "name": "python3",
      "display_name": "Python 3"
    },
    "language_info": {
      "name": "python"
    }
  },
  "cells": [
    {
      "cell_type": "code",
      "metadata": {
        "id": "arhrEkKvEJXw"
      },
      "source": [
        "import requests\n",
        "import zipfile\n",
        "import re\n",
        "import random"
      ],
      "execution_count": 1,
      "outputs": []
    },
    {
      "cell_type": "code",
      "metadata": {
        "id": "73YBXjmBEs7W"
      },
      "source": [
        "# data download, unzip\n",
        "r = requests.get(\"https://www.dt.fee.unicamp.br/~tiago/smsspamcollection/smsspamcollection.zip\")\n",
        "with open(\"sms.zip\", \"wb\") as f:\n",
        "  f.write(r.content)\n",
        "zipfile.ZipFile(\"sms.zip\").extractall(\"./\")"
      ],
      "execution_count": 2,
      "outputs": []
    },
    {
      "cell_type": "code",
      "metadata": {
        "id": "3gp1bjrpFOrZ"
      },
      "source": [
        "# load data\n",
        "data = []\n",
        "with open(\"SMSSpamCollection.txt\", 'r') as f:\n",
        "  for line in f:\n",
        "    cls, txt = line.strip().split(\"\\t\")\n",
        "    bow = set(re.findall(\"[0-9a-z_]+\",txt.lower()))\n",
        "    data.append([cls,bow])"
      ],
      "execution_count": 3,
      "outputs": []
    },
    {
      "cell_type": "code",
      "metadata": {
        "id": "8Bv39gDgHeKZ"
      },
      "source": [
        "# split data into train, test\n",
        "\n",
        "random.shuffle(data)\n",
        "train_size = int(len(data) * 0.8)\n",
        "test_size = len(data) - train_size\n",
        "\n",
        "train = data[:train_size]\n",
        "test = data[train_size:]"
      ],
      "execution_count": 4,
      "outputs": []
    },
    {
      "cell_type": "code",
      "metadata": {
        "colab": {
          "base_uri": "https://localhost:8080/"
        },
        "id": "3sVfVlZVIePq",
        "outputId": "582442d2-bb6d-4a88-8ab6-757bc12b7719"
      },
      "source": [
        "# train 데이터에서, naive bayes 계산을 위한 값들을 미리 다 계산해놓기\n",
        "# prior prob, P(spam), P(ham)\n",
        "# P(spam) = spam 문자 수 / 전체 문자 수\n",
        "# 라플라스 스무딩 -> 관측한 메이에서 한번도 등장하지 않은 단어가 있으면, 예측할 때 결과가 좀 이상해지는 문제!\n",
        "# 가상의 spam문자, ham문자를 하나씩 추가, spam, ham 문자에는 세상 존재하는 모든 단어가 다있음.\n",
        "# 가상의 spam문자, ham문자의 영향력이 지나치면 곤란하기 때문에, 가중치를 줄 수 있음 alpha\n",
        "\n",
        "n_total = train_size\n",
        "n_spam = sum(1 for cls, bow in train if cls == 'spam')\n",
        "n_ham = sum(1 for cls, bow in train if cls == 'ham')\n",
        "\n",
        "alpha = 0.00001\n",
        "\n",
        "prior_spam = (n_spam + alpha) / (n_total + 2*alpha)\n",
        "prior_ham = (n_ham + alpha) / (n_total + 2*alpha)\n",
        "\n",
        "print(prior_spam, prior_ham)\n"
      ],
      "execution_count": 5,
      "outputs": [
        {
          "output_type": "stream",
          "name": "stdout",
          "text": [
            "0.13545638198943089 0.8645436180105691\n"
          ]
        }
      ]
    },
    {
      "cell_type": "code",
      "metadata": {
        "id": "Eh0tAo_ALHyW"
      },
      "source": [
        "# 모든 단어의 likelihood, P(w|spam), P(w|ham)\n",
        "# P(W|spam) = (w를 포함하는 spam 문자 수 + alpha) / (전체 spam 문자 수 + alpha)\n",
        "# P(W|ham) = (w를 포함하는 ham 문자 수 + alpha) / (전체 ham 문자 수 + alpha)\n",
        "from collections import Counter\n",
        "\n",
        "\n",
        "spam_words = Counter(word for cls, bow in train\n",
        "for word in bow\n",
        "if cls == 'spam')\n",
        "\n",
        "ham_words = Counter(word for cls, bow in train\n",
        "for word in bow\n",
        "if cls == 'ham')\n"
      ],
      "execution_count": 6,
      "outputs": []
    },
    {
      "cell_type": "code",
      "metadata": {
        "id": "Ycrphp2tNl-C"
      },
      "source": [
        "def predict(bow):\n",
        "  # spam_score = P(spam)*P(w1|spam)* P(w2|spam)...\n",
        "  # ham_score = P(ham)*P(w1|ham)*P(w2|ham)...\n",
        "  #P(w|spam) = w를 포함한 spam 수 + alpha / 전체 spam 수 + alpha\n",
        "  spam_score = prior_spam\n",
        "  ham_score = prior_ham\n",
        "  for word in bow:\n",
        "    spam_score *= (spam_words[word] + alpha)/(n_spam + alpha)\n",
        "    ham_score *= (ham_words[word] + alpha)/(n_ham + alpha)    \n",
        "\n",
        "  if spam_score < ham_score:\n",
        "    return \"ham\"\n",
        "  else:\n",
        "    return \"spam\"\n",
        "  "
      ],
      "execution_count": 7,
      "outputs": []
    },
    {
      "cell_type": "code",
      "metadata": {
        "colab": {
          "base_uri": "https://localhost:8080/"
        },
        "id": "W6kqykUJOfwM",
        "outputId": "f06cb8a4-dc12-45e6-8986-b6038c8a7b6b"
      },
      "source": [
        "tp, tn, fp, fn = 0,0,0,0\n",
        "\n",
        "for ans, bow in test:\n",
        "  pred = predict(bow)\n",
        "  if pred == 'spam':\n",
        "    if ans == 'spam':\n",
        "      tp+= 1\n",
        "    else: #ans == 'ham'\n",
        "      fp+=1\n",
        "  else: #pre == 'ham\n",
        "    if ans=='ham':\n",
        "      tn+=1\n",
        "    else: #ans=='spam'\n",
        "      fn+=1\n",
        "\n",
        "print(f\"tp:{tp}, tn: {tn}, fp: {fp}, fn : {fn}\")"
      ],
      "execution_count": 8,
      "outputs": [
        {
          "output_type": "stream",
          "name": "stdout",
          "text": [
            "tp:136, tn: 937, fp: 35, fn : 7\n"
          ]
        }
      ]
    },
    {
      "cell_type": "code",
      "metadata": {
        "colab": {
          "base_uri": "https://localhost:8080/"
        },
        "id": "5gXiVDxzRdww",
        "outputId": "fefdbc51-07ed-4e40-c5a6-bc8d07d070c3"
      },
      "source": [
        "#accuracy = 맞힌 수 / 전체 테스트 수\n",
        "\n",
        "acc = (tp + tn) / (tp + tn + fp + fn)\n",
        "\n",
        "#precision = 스팸이야 : 중 실제 스팸 수\n",
        "prec = tp/(tp + fp)\n",
        "#recall = 내가 찾아낸 스팸 수 / 실제 스팸\n",
        "recall = tp / (tp + fn)\n",
        "# f1 = precision과 recall의 조화평균\n",
        "f1 = 2*prec*recall / (prec + recall)\n",
        "print(f\"acc : {acc:.3f}, prec: {prec:.3f}, recall:{recall:.3f}, f1:{f1:.3f}\")"
      ],
      "execution_count": 9,
      "outputs": [
        {
          "output_type": "stream",
          "name": "stdout",
          "text": [
            "acc : 0.962, prec: 0.795, recall:0.951, f1:0.866\n"
          ]
        }
      ]
    }
  ]
}