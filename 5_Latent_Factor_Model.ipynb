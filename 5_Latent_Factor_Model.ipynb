{
  "nbformat": 4,
  "nbformat_minor": 0,
  "metadata": {
    "colab": {
      "name": "이민재_20191638_과제5.ipynb",
      "provenance": [],
      "collapsed_sections": []
    },
    "kernelspec": {
      "name": "python3",
      "display_name": "Python 3"
    },
    "language_info": {
      "name": "python"
    }
  },
  "cells": [
    {
      "cell_type": "code",
      "metadata": {
        "colab": {
          "base_uri": "https://localhost:8080/"
        },
        "id": "v46tTQNMCOBD",
        "outputId": "11916ff3-64be-45dd-d6ff-3851ca0f6ee4"
      },
      "source": [
        "from google.colab import drive\n",
        "drive.mount(\"/content/gdrive\")"
      ],
      "execution_count": 52,
      "outputs": [
        {
          "output_type": "stream",
          "name": "stdout",
          "text": [
            "Drive already mounted at /content/gdrive; to attempt to forcibly remount, call drive.mount(\"/content/gdrive\", force_remount=True).\n"
          ]
        }
      ]
    },
    {
      "cell_type": "code",
      "metadata": {
        "colab": {
          "base_uri": "https://localhost:8080/"
        },
        "id": "ZHFFyuSJFtJc",
        "outputId": "66cc5259-ef50-46ec-bfba-c766ee96fa84"
      },
      "source": [
        "!ls /content/movielens\n"
      ],
      "execution_count": 53,
      "outputs": [
        {
          "output_type": "stream",
          "name": "stdout",
          "text": [
            "allbut.pl  u1.base  u2.test  u4.base  u5.test  ub.base\tu.genre  u.occupation\n",
            "mku.sh\t   u1.test  u3.base  u4.test  ua.base  ub.test\tu.info\t u.user\n",
            "README\t   u2.base  u3.test  u5.base  ua.test  u.data\tu.item\n"
          ]
        }
      ]
    },
    {
      "cell_type": "code",
      "metadata": {
        "id": "CTxg6DImHghy"
      },
      "source": [
        "import torch\n",
        "import pandas as pd\n",
        "import torch.nn.functional as F\n",
        "import matplotlib.pyplot as plt\n"
      ],
      "execution_count": 54,
      "outputs": []
    },
    {
      "cell_type": "code",
      "metadata": {
        "id": "UR2uZhkRHso9"
      },
      "source": [
        "train = pd.read_csv(\"/content/movielens/ua.base\",sep=\"\\t\",\n",
        "            names=[\"user\",\"item\",\"rating\",\"timestamp\"])\n",
        "\n",
        "test = pd.read_csv(\"/content/movielens/ua.test\",sep=\"\\t\",\n",
        "            names=[\"user\",\"item\",\"rating\",\"timestamp\"])\n"
      ],
      "execution_count": 55,
      "outputs": []
    },
    {
      "cell_type": "code",
      "metadata": {
        "id": "L0L0jfEIHtCa"
      },
      "source": [
        "users = torch.LongTensor(train['user'])\n",
        "items = torch.LongTensor(train['item'])\n",
        "ratings = torch.FloatTensor(train['rating'])\n",
        "\n",
        "users_test = torch.LongTensor(test['user'])\n",
        "items_test = torch.LongTensor(test['item'])\n",
        "ratings_test = torch.FloatTensor(test['rating'])"
      ],
      "execution_count": 56,
      "outputs": []
    },
    {
      "cell_type": "code",
      "metadata": {
        "colab": {
          "base_uri": "https://localhost:8080/"
        },
        "id": "_qGCnNWlHtRE",
        "outputId": "e0c0de63-2da8-445a-ca43-e0baf33aa614"
      },
      "source": [
        "rank = 10\n",
        "num_users = users.max() + 1\n",
        "num_items = items.max() + 1\n",
        "\n",
        "P = torch.randn(num_users, rank, requires_grad=True)\n",
        "Q = torch.randn(num_items, rank, requires_grad=True)\n",
        "\n",
        "lambda_P = 0.0001\n",
        "lambda_Q = 0.0001\n",
        "\n",
        "optimizer = torch.optim.Adam([P,Q], lr=0.1)\n",
        "\n",
        "X = []\n",
        "Y = []\n",
        "Y_test = []\n",
        "for epoch in range(1001):\n",
        "  hypo = (P[users] * Q[items]).sum(dim=1)\n",
        "  mse = F.mse_loss(hypo, ratings)\n",
        "  cost = mse + lambda_P*(P**2).sum() + lambda_Q*(Q**2).sum()\n",
        "\n",
        "  optimizer.zero_grad()\n",
        "  cost.backward()\n",
        "  optimizer.step()\n",
        "\n",
        "  with torch.no_grad():\n",
        "    X.append(epoch)\n",
        "    Y.append(mse.item())\n",
        "\n",
        "    hypo_test = (P[users_test] * Q[items_test]).sum(dim=1)\n",
        "    mse_test = F.mse_loss(hypo_test, ratings_test)\n",
        "    Y_test.append(mse_test.item())\n",
        "\n",
        "    if epoch % 100 == 0:\n",
        "      print(f\"epoch :{epoch}, cost: {mse.item()}, cost_test: {mse_test.item()}\")\n"
      ],
      "execution_count": 57,
      "outputs": [
        {
          "output_type": "stream",
          "name": "stdout",
          "text": [
            "epoch :0, cost: 23.66753387451172, cost_test: 21.692195892333984\n",
            "epoch :100, cost: 0.7104047536849976, cost_test: 1.0677436590194702\n",
            "epoch :200, cost: 0.6445252299308777, cost_test: 1.0561186075210571\n",
            "epoch :300, cost: 0.6320115923881531, cost_test: 1.0570310354232788\n",
            "epoch :400, cost: 0.6289214491844177, cost_test: 1.0559113025665283\n",
            "epoch :500, cost: 0.6277568340301514, cost_test: 1.0551081895828247\n",
            "epoch :600, cost: 0.6270105838775635, cost_test: 1.0548549890518188\n",
            "epoch :700, cost: 0.6265696287155151, cost_test: 1.0545710325241089\n",
            "epoch :800, cost: 0.6263159513473511, cost_test: 1.0541002750396729\n",
            "epoch :900, cost: 0.6261574625968933, cost_test: 1.0537492036819458\n",
            "epoch :1000, cost: 0.6260524392127991, cost_test: 1.053823471069336\n"
          ]
        }
      ]
    },
    {
      "cell_type": "code",
      "metadata": {
        "colab": {
          "base_uri": "https://localhost:8080/",
          "height": 279
        },
        "id": "drMCx3evY5Fn",
        "outputId": "61764c95-9173-49a9-d6e7-abe9c2e95a9a"
      },
      "source": [
        "plt.plot(X,Y)\n",
        "plt.xlabel(\"Epoch\")\n",
        "plt.ylabel(\"MSE\")\n",
        "\n",
        "plt.plot(X,Y,label=\"train MSE\")\n",
        "plt.plot(X,Y_test,label=\"test MSE\")\n",
        "plt.legend()\n",
        "\n",
        "\n",
        "plt.show()"
      ],
      "execution_count": 58,
      "outputs": [
        {
          "output_type": "display_data",
          "data": {
            "image/png": "[encoded data removed]",
            "text/plain": [
              "<Figure size 432x288 with 1 Axes>"
            ]
          },
          "metadata": {
            "needs_background": "light"
          }
        }
      ]
    },
    {
      "cell_type": "code",
      "metadata": {
        "colab": {
          "base_uri": "https://localhost:8080/"
        },
        "id": "6WaoC2u2Vkvc",
        "outputId": "fe8727cc-c343-46ed-85d9-382de96d9097"
      },
      "source": [
        "rank = 10\n",
        "num_users = users.max() + 1\n",
        "num_items = items.max() + 1\n",
        "\n",
        "P = torch.randn(num_users, rank, requires_grad=True)\n",
        "Q = torch.randn(num_items, rank, requires_grad=True)\n",
        "\n",
        "bias_user = torch.randn(num_users,requires_grad=True)\n",
        "bias_item = torch.randn(num_items,requires_grad=True)\n",
        "mean = (ratings.sum()/len(ratings)).item()\n",
        "\n",
        "lambda_P = 0.0001\n",
        "lambda_Q = 0.0001\n",
        "lambda_BU = 0.0001\n",
        "lambda_BI = 0.0001\n",
        "\n",
        "optimizer = torch.optim.Adam([P,Q, bias_user, bias_item], lr=0.1)\n",
        "\n",
        "X = []\n",
        "Y = []\n",
        "Y_test = []\n",
        "for epoch in range(1001):\n",
        "  hypo = (P[users] * Q[items]).sum(dim=1) + bias_user[users] + bias_item[items] + mean\n",
        "  mse = F.mse_loss(hypo, ratings)\n",
        "  cost = mse + lambda_P*(P**2).sum() + lambda_Q*(Q**2).sum() + \\\n",
        "           lambda_BU * (bias_user**2).sum() + lambda_BI * (bias_item**2).sum()\n",
        "\n",
        "  optimizer.zero_grad()\n",
        "  cost.backward()\n",
        "  optimizer.step()\n",
        "\n",
        "  with torch.no_grad():\n",
        "    X.append(epoch)\n",
        "    Y.append(mse.item())\n",
        "\n",
        "\n",
        "    hypo_test = (P[users_test] * Q[items_test]).sum(dim=1)+\\\n",
        "                     bias_user[users_test] + bias_item[items_test] + mean\n",
        "    mse_test = F.mse_loss(hypo_test, ratings_test)\n",
        "    Y_test.append(mse_test.item())\n",
        "\n",
        "    if epoch % 100 == 0:\n",
        "      print(f\"epoch :{epoch}, cost: {mse.item()}, cost_test: {mse_test.item()}\")\n"
      ],
      "execution_count": 59,
      "outputs": [
        {
          "output_type": "stream",
          "name": "stdout",
          "text": [
            "epoch :0, cost: 13.287676811218262, cost_test: 10.276268005371094\n",
            "epoch :100, cost: 0.612516462802887, cost_test: 0.8803497552871704\n",
            "epoch :200, cost: 0.5810884833335876, cost_test: 0.8686655759811401\n",
            "epoch :300, cost: 0.5752583742141724, cost_test: 0.8665206432342529\n",
            "epoch :400, cost: 0.5735230445861816, cost_test: 0.8676807284355164\n",
            "epoch :500, cost: 0.5730118155479431, cost_test: 0.8678644895553589\n",
            "epoch :600, cost: 0.5727591514587402, cost_test: 0.867309033870697\n",
            "epoch :700, cost: 0.5726228952407837, cost_test: 0.8670081496238708\n",
            "epoch :800, cost: 0.5725691914558411, cost_test: 0.8670395612716675\n",
            "epoch :900, cost: 0.572544276714325, cost_test: 0.8671042323112488\n",
            "epoch :1000, cost: 0.5725388526916504, cost_test: 0.867152214050293\n"
          ]
        }
      ]
    },
    {
      "cell_type": "code",
      "metadata": {
        "colab": {
          "base_uri": "https://localhost:8080/",
          "height": 279
        },
        "id": "H-gfbOqdHt3B",
        "outputId": "303a0f4b-f1f5-48e6-8fef-f877842522fe"
      },
      "source": [
        "plt.plot(X,Y)\n",
        "plt.xlabel(\"Epoch\")\n",
        "plt.ylabel(\"MSE\")\n",
        "\n",
        "plt.plot(X,Y,label=\"train MSE\")\n",
        "plt.plot(X,Y_test,label=\"test MSE\")\n",
        "plt.legend()\n",
        "\n",
        "\n",
        "plt.show()"
      ],
      "execution_count": 60,
      "outputs": [
        {
          "output_type": "display_data",
          "data": {
            "image/png": "[encoded data removed]",
            "text/plain": [
              "<Figure size 432x288 with 1 Axes>"
            ]
          },
          "metadata": {
            "needs_background": "light"
          }
        }
      ]
    }
  ]
}