{
  "nbformat": 4,
  "nbformat_minor": 0,
  "metadata": {
    "colab": {
      "name": "20191638_이민재_과제3.ipynb",
      "provenance": [],
      "collapsed_sections": []
    },
    "kernelspec": {
      "name": "python3",
      "display_name": "Python 3"
    },
    "language_info": {
      "name": "python"
    }
  },
  "cells": [
    {
      "cell_type": "markdown",
      "metadata": {
        "id": "crxV4Nqax1u9"
      },
      "source": [
        "## **[Pytorch로 Softmax Regression 구현]**"
      ]
    },
    {
      "cell_type": "code",
      "metadata": {
        "id": "mN4FEvdjuJx1"
      },
      "source": [
        "import torch\n",
        "\n",
        "x_train = torch.FloatTensor([ [1,2,1,1], [2,1,3,2], [3,1,3,4], [4,1,5,5], [1,7,5,5],\n",
        " [1,2,5,6], [1,6,6,6], [1,7,7,7] ])\n",
        "\n",
        "y_train = torch.FloatTensor([ [0,0,1], [0,0,1], [0,0,1], [0,1,0], [0,1,0], [0,1,0],\n",
        " [1,0,0], [1,0,0] ])"
      ],
      "execution_count": 1,
      "outputs": []
    },
    {
      "cell_type": "code",
      "metadata": {
        "colab": {
          "base_uri": "https://localhost:8080/"
        },
        "id": "40Iv_Cn1unpX",
        "outputId": "40f0dfbc-ee03-4f8b-9dbe-4d23ae849352"
      },
      "source": [
        "W = torch.zeros(4,3, requires_grad = True)\n",
        "b = torch.zeros(1,3, requires_grad = True)\n",
        "\n",
        "optimizer = torch.optim.Adam([W,b],lr=0.1)\n",
        "\n",
        "\n",
        "\n",
        "for epoch in range(3001):\n",
        "  hypothesis = torch.softmax(torch.mm(x_train, W)+b, dim =1)\n",
        "\n",
        "  cost = -torch.mean(torch.sum(y_train * torch.log(hypothesis), dim=1))\n",
        "\n",
        "\n",
        "  optimizer.zero_grad()\n",
        "  cost.backward()\n",
        "  optimizer.step()\n",
        "\n",
        "  if epoch % 300 == 0:\n",
        "    print(\"epoch: {}, cost: {:.6f}\".format(epoch, cost.item()))\n"
      ],
      "execution_count": 2,
      "outputs": [
        {
          "output_type": "stream",
          "name": "stdout",
          "text": [
            "epoch: 0, cost: 1.098612\n",
            "epoch: 300, cost: 0.105262\n",
            "epoch: 600, cost: 0.042634\n",
            "epoch: 900, cost: 0.023111\n",
            "epoch: 1200, cost: 0.014479\n",
            "epoch: 1500, cost: 0.009879\n",
            "epoch: 1800, cost: 0.007124\n",
            "epoch: 2100, cost: 0.005338\n",
            "epoch: 2400, cost: 0.004113\n",
            "epoch: 2700, cost: 0.003236\n",
            "epoch: 3000, cost: 0.002588\n"
          ]
        }
      ]
    },
    {
      "cell_type": "code",
      "metadata": {
        "colab": {
          "base_uri": "https://localhost:8080/"
        },
        "id": "hZau0mihu9e_",
        "outputId": "ba8ec79e-bf4b-4456-ebce-d711557bfdf0"
      },
      "source": [
        "# x 가 [1, 11, 10, 9] , [1,3,4,3], [1,1,0,1] 일 때 y 값은?\n",
        "\n",
        "W.requires_grad_(False)\n",
        "b.requires_grad_(False)\n",
        "\n",
        "x_test = torch.FloatTensor([[1,11,10,9],[1,3,4,3],[1,1,0,1]])\n",
        "test_all = torch.softmax(torch.mm(x_test,W)+b, dim=1)\n",
        "\n",
        "print(test_all)\n",
        "print(torch.argmax(test_all,dim=1))"
      ],
      "execution_count": 3,
      "outputs": [
        {
          "output_type": "stream",
          "name": "stdout",
          "text": [
            "tensor([[1.0000e+00, 5.5165e-19, 7.0151e-38],\n",
            "        [1.4800e-02, 7.4294e-01, 2.4226e-01],\n",
            "        [1.2256e-33, 9.0835e-12, 1.0000e+00]])\n",
            "tensor([0, 1, 2])\n"
          ]
        }
      ]
    },
    {
      "cell_type": "markdown",
      "metadata": {
        "id": "Pog59qmXyOkX"
      },
      "source": [
        "# **조금 더 깔끔하게 Softmax**"
      ]
    },
    {
      "cell_type": "code",
      "metadata": {
        "id": "1dTQeIlW00wl"
      },
      "source": [
        "import torch.nn.functional as F\n",
        "import torch.nn as nn"
      ],
      "execution_count": 4,
      "outputs": []
    },
    {
      "cell_type": "code",
      "metadata": {
        "id": "Rxa4AzF6yw5y"
      },
      "source": [
        "x_train = torch.FloatTensor([ [1,2,1,1], [2,1,3,2], [3,1,3,4], [4,1,5,5], [1,7,5,5],\n",
        " [1,2,5,6], [1,6,6,6], [1,7,7,7] ])\n",
        "\n",
        "y_train = torch.LongTensor([2,2,2,1,1,1,0,0])\n"
      ],
      "execution_count": 5,
      "outputs": []
    },
    {
      "cell_type": "code",
      "metadata": {
        "colab": {
          "base_uri": "https://localhost:8080/"
        },
        "id": "0IMm1j2EzBzI",
        "outputId": "32ac57bf-9d49-4db0-f46d-4b5a553cd670"
      },
      "source": [
        "model = nn.Linear(4,3)\n",
        "optimizer = torch.optim.Adam(model.parameters(),lr=1)\n",
        "\n",
        "for epoch in range(3001):\n",
        "\n",
        "  z = model(x_train)\n",
        "\n",
        "  cost = F.cross_entropy(z, y_train)\n",
        "\n",
        "  optimizer.zero_grad()\n",
        "  cost.backward()\n",
        "  optimizer.step()\n",
        "\n",
        "  if epoch % 300 == 0:\n",
        "    print(\"epoch: {}, cost: {:.6f}\".format(epoch, cost.item()))\n"
      ],
      "execution_count": 6,
      "outputs": [
        {
          "output_type": "stream",
          "name": "stdout",
          "text": [
            "epoch: 0, cost: 1.808515\n",
            "epoch: 300, cost: 0.029846\n",
            "epoch: 600, cost: 0.011836\n",
            "epoch: 900, cost: 0.006385\n",
            "epoch: 1200, cost: 0.004002\n",
            "epoch: 1500, cost: 0.002736\n",
            "epoch: 1800, cost: 0.001976\n",
            "epoch: 2100, cost: 0.001484\n",
            "epoch: 2400, cost: 0.001145\n",
            "epoch: 2700, cost: 0.000902\n",
            "epoch: 3000, cost: 0.000722\n"
          ]
        }
      ]
    },
    {
      "cell_type": "code",
      "metadata": {
        "colab": {
          "base_uri": "https://localhost:8080/"
        },
        "id": "ZvqaSjCLzCuo",
        "outputId": "8fa60442-3d2b-4b95-9d16-94c17eb0bca0"
      },
      "source": [
        "# x 가 [1, 11, 10, 9] , [1,3,4,3], [1,1,0,1] 일 때 y 값은?\n",
        "\n",
        "W.requires_grad_(False)\n",
        "b.requires_grad_(False)\n",
        "\n",
        "x_test = torch.FloatTensor([[1,11,10,9],[1,3,4,3],[1,1,0,1]])\n",
        "test_all = model(x_test)\n",
        "\n",
        "print(test_all)\n",
        "print(torch.argmax(test_all,dim=1))"
      ],
      "execution_count": 7,
      "outputs": [
        {
          "output_type": "stream",
          "name": "stdout",
          "text": [
            "tensor([[ 64.9749,   9.8079, -42.2887],\n",
            "        [ -4.4576,   8.5050,   7.4180],\n",
            "        [-51.3223,  15.6745,  46.8943]], grad_fn=<AddmmBackward>)\n",
            "tensor([0, 1, 2])\n"
          ]
        }
      ]
    },
    {
      "cell_type": "markdown",
      "metadata": {
        "id": "DlCLAuef76Ix"
      },
      "source": [
        "# **Softmax Regression in Sklearn**"
      ]
    },
    {
      "cell_type": "code",
      "metadata": {
        "colab": {
          "base_uri": "https://localhost:8080/"
        },
        "id": "wEuw9anjzE2t",
        "outputId": "9042826e-3ba2-4d6a-db45-05e94aca725e"
      },
      "source": [
        "import numpy as np\n",
        "from sklearn.linear_model import LogisticRegression\n",
        "\n",
        "x_train = np.array([ [1,2,1,1], [2,1,3,2], [3,1,3,4], [4,1,5,5], [1,7,5,5],\n",
        " [1,2,5,6], [1,6,6,6], [1,7,7,7] ])\n",
        "\n",
        "y_train = np.array([ 2, 2, 2, 1, 1, 1, 0, 0 ])\n",
        "\n",
        "logistic = LogisticRegression(penalty=\"none\")\n",
        "logistic.fit(x_train, y_train)\n",
        "\n",
        "pred = logistic.predict([[1,11,10,9],[1,3,4,3],[1,1,0,1]])\n",
        "print(pred)"
      ],
      "execution_count": 8,
      "outputs": [
        {
          "output_type": "stream",
          "name": "stdout",
          "text": [
            "[0 1 2]\n"
          ]
        }
      ]
    }
  ]
}